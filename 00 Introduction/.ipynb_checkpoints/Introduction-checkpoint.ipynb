{
 "cells": [
  {
   "cell_type": "markdown",
   "id": "5e16c3b1",
   "metadata": {
    "toc": true
   },
   "source": [
    "<h1>Table of Contents<span class=\"tocSkip\"></span></h1>\n",
    "<div class=\"toc\"><ul class=\"toc-item\"><li><span><a href=\"#Computer-program\" data-toc-modified-id=\"Computer-program-1\">Computer program</a></span></li><li><span><a href=\"#Computer-Programming\" data-toc-modified-id=\"Computer-Programming-2\">Computer Programming</a></span></li><li><span><a href=\"#Programming-language\" data-toc-modified-id=\"Programming-language-3\">Programming language</a></span></li><li><span><a href=\"#Types-of-Programming-Language\" data-toc-modified-id=\"Types-of-Programming-Language-4\">Types of Programming Language</a></span><ul class=\"toc-item\"><li><span><a href=\"#Compiler\" data-toc-modified-id=\"Compiler-4.1\">Compiler</a></span></li><li><span><a href=\"#Interpreter\" data-toc-modified-id=\"Interpreter-4.2\">Interpreter</a></span></li><li><span><a href=\"#Assembler\" data-toc-modified-id=\"Assembler-4.3\">Assembler</a></span></li><li><span><a href=\"#Difference-Between-Compiler-Interpreter-and-Assembler\" data-toc-modified-id=\"Difference-Between-Compiler-Interpreter-and-Assembler-4.4\">Difference Between Compiler Interpreter and Assembler</a></span></li><li><span><a href=\"#Advantages-and-disadvantages-of-Compiler-and-Interpreter\" data-toc-modified-id=\"Advantages-and-disadvantages-of-Compiler-and-Interpreter-4.5\">Advantages and disadvantages of Compiler and Interpreter</a></span></li></ul></li><li><span><a href=\"#Python-(programming-language)\" data-toc-modified-id=\"Python-(programming-language)-5\">Python (programming language)</a></span></li><li><span><a href=\"#Reference\" data-toc-modified-id=\"Reference-6\">Reference</a></span></li></ul></div>"
   ]
  },
  {
   "cell_type": "markdown",
   "id": "09763811",
   "metadata": {},
   "source": [
    "# Computer program\n",
    "A computer program is a **sequence or set of instructions** in a programming language for a computer to execute. Computer programs are one component of software, which also includes documentation and other intangible components.\n",
    "\n",
    "A computer program in its human-readable form is called **source code**. Source code needs another computer program to execute because computers can only execute their native machine instructions. Therefore, source code may be translated to machine instructions using the language's **compiler**. (Machine language programs are translated using an assembler.) The resulting file is called an **executable**. Alternatively, source code may execute within the language's **interpreter**."
   ]
  },
  {
   "cell_type": "markdown",
   "id": "7f61f686",
   "metadata": {},
   "source": [
    "# Computer Programming\n",
    "Computer programming is the **process of performing a particular computation** (or more generally, accomplishing a specific computing result), usually by designing and building an **executable computer program**. Programming **involves tasks** such as `analysis, generating algorithms, profiling algorithms' accuracy and resource consumption, and the implementation of algorithms` (usually in a chosen programming language, commonly referred to as coding)."
   ]
  },
  {
   "cell_type": "markdown",
   "id": "99b6b61f",
   "metadata": {},
   "source": [
    "# Programming language\n",
    "A programming language is a **system of notation for writing computer programs**. Most programming languages are **text-based** formal languages, but they may also be **graphical**. They are a **kind of computer language**. "
   ]
  },
  {
   "cell_type": "markdown",
   "id": "92b95df0",
   "metadata": {},
   "source": [
    "# Types of Programming Language\n",
    "## Compiler\n",
    "A compiler is a language translator that converts high level programs into machine understandable machine codes. In this process, the compiler converts the whole program to machine code at a time. If there are any syntactic or semantic error, the compiler will indicate them. It checks the whole program and displays all errors. It is not possible to execute the program without fixing those errors.\n",
    "\n",
    "Programming languages such as C, C++ uses a compiler for language conversion. The execution time is lower in these languages. Therefore, they are considered fast languages.\n",
    "## Interpreter\n",
    "An interpreter is also a language translator that converts high level programs into machine codes. Unlike compilers, interpreters convert the source code to machine code line by line. As it checks line by line, the scanning time is lower. But the overall execution time is higher.\n",
    "\n",
    "Interpreter displays an error at a time. The programmer should fix that error to interpret the next line. Programming languages such as Python, Ruby, PHP, Perl are some examples of interpreter-based languages.\n",
    "\n",
    "## Assembler\n",
    "In addition to high level languages and machine language, there is another language called the assembly language. Assembly language is in between the high level languages and machine language. It is closer to machine language than high level languages. It is also called low level language. This language is not easily readable and understandable by the programmer like a high level programming language. The assembler works as the translator in converting the assembly language program to machine code.\n",
    "\n",
    "## Difference Between Compiler Interpreter and Assembler\n",
    "The main difference between compiler interpreter and assembler is that **`compiler converts the whole high level language program to machine language at a time`** while **`interpreter converts high level language program to machine language line by line`** and **`assembler converts assembly language program to machine language`**.\n",
    "\n",
    "## Advantages and disadvantages of Compiler and Interpreter\n",
    "............\n"
   ]
  },
  {
   "cell_type": "markdown",
   "id": "49627e0b",
   "metadata": {},
   "source": [
    "# Python (programming language)\n",
    "Python is a high-level, general-purpose programming language. Its design philosophy emphasizes code readability with the use of significant indentation.\n",
    "\n",
    "Python is dynamically-typed and garbage-collected. It supports multiple programming paradigms, including structured (particularly procedural), object-oriented and functional programming. It is often described as a \"batteries included\" language due to its comprehensive standard library.\n",
    "\n",
    "Guido van Rossum began working on Python in the late 1980s as a successor to the ABC programming language and first released it in 1991 as Python 0.9.0. Python 2.0 was released in 2000 and introduced new features such as list comprehensions, cycle-detecting garbage collection, reference counting, and Unicode support. Python 3.0, released in 2008, was a major revision that is not completely backward-compatible with earlier versions. Python 2 was discontinued with version 2.7.18 in 2020."
   ]
  },
  {
   "cell_type": "markdown",
   "id": "8b90cab4",
   "metadata": {},
   "source": [
    "# Reference\n",
    "1. https://en.wikipedia.org/wiki/Computer_program\n",
    "2. https://en.wikipedia.org/wiki/Computer_programming\n",
    "3. https://en.wikipedia.org/wiki/Programming_language\n",
    "4. https://pediaa.com/difference-between-compiler-interpreter-and-assembler/#Compiler\n",
    "5. https://en.wikipedia.org/wiki/Python_(programming_language)\n",
    "\n",
    "\n",
    "\n",
    "\n",
    "6. https://buggyprogrammer.com/advantages-and-disadvantages-of-compiler-and-interpreter/\n",
    "7. https://en.wikipedia.org/wiki/CPython\n",
    "8. https://en.wikipedia.org/wiki/Jython\n",
    "9. https://betterprogramming.pub/compiler-vs-interpreter-d0a12ca1c1b6"
   ]
  },
  {
   "cell_type": "code",
   "execution_count": null,
   "id": "1c12a7d7",
   "metadata": {},
   "outputs": [],
   "source": []
  }
 ],
 "metadata": {
  "kernelspec": {
   "display_name": "Python 3 (ipykernel)",
   "language": "python",
   "name": "python3"
  },
  "language_info": {
   "codemirror_mode": {
    "name": "ipython",
    "version": 3
   },
   "file_extension": ".py",
   "mimetype": "text/x-python",
   "name": "python",
   "nbconvert_exporter": "python",
   "pygments_lexer": "ipython3",
   "version": "3.9.13"
  },
  "toc": {
   "base_numbering": 1,
   "nav_menu": {},
   "number_sections": false,
   "sideBar": false,
   "skip_h1_title": false,
   "title_cell": "Table of Contents",
   "title_sidebar": "Contents",
   "toc_cell": true,
   "toc_position": {
    "height": "148px",
    "left": "896px",
    "top": "144.233px",
    "width": "252.333px"
   },
   "toc_section_display": false,
   "toc_window_display": true
  }
 },
 "nbformat": 4,
 "nbformat_minor": 5
}
