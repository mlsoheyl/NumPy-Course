{
 "cells": [
  {
   "cell_type": "markdown",
   "id": "5e16c3b1",
   "metadata": {
    "toc": true
   },
   "source": [
    "<h1>Table of Contents<span class=\"tocSkip\"></span></h1>\n",
    "<div class=\"toc\"><ul class=\"toc-item\"><li><span><a href=\"#Computer-program\" data-toc-modified-id=\"Computer-program-1\"><span class=\"toc-item-num\">1&nbsp;&nbsp;</span>Computer program</a></span></li><li><span><a href=\"#Computer-Programming\" data-toc-modified-id=\"Computer-Programming-2\"><span class=\"toc-item-num\">2&nbsp;&nbsp;</span>Computer Programming</a></span></li><li><span><a href=\"#Programming-language\" data-toc-modified-id=\"Programming-language-3\"><span class=\"toc-item-num\">3&nbsp;&nbsp;</span>Programming language</a></span></li><li><span><a href=\"#Types-of-Programming-Language\" data-toc-modified-id=\"Types-of-Programming-Language-4\"><span class=\"toc-item-num\">4&nbsp;&nbsp;</span>Types of Programming Language</a></span><ul class=\"toc-item\"><li><span><a href=\"#Compiler\" data-toc-modified-id=\"Compiler-4.1\"><span class=\"toc-item-num\">4.1&nbsp;&nbsp;</span>Compiler</a></span></li><li><span><a href=\"#Interpreter\" data-toc-modified-id=\"Interpreter-4.2\"><span class=\"toc-item-num\">4.2&nbsp;&nbsp;</span>Interpreter</a></span></li><li><span><a href=\"#Assembler\" data-toc-modified-id=\"Assembler-4.3\"><span class=\"toc-item-num\">4.3&nbsp;&nbsp;</span>Assembler</a></span></li><li><span><a href=\"#Difference-Between-Compiler-Interpreter-and-Assembler\" data-toc-modified-id=\"Difference-Between-Compiler-Interpreter-and-Assembler-4.4\"><span class=\"toc-item-num\">4.4&nbsp;&nbsp;</span>Difference Between Compiler Interpreter and Assembler</a></span></li><li><span><a href=\"#Advantages-and-disadvantages-of-Compiler-and-Interpreter\" data-toc-modified-id=\"Advantages-and-disadvantages-of-Compiler-and-Interpreter-4.5\"><span class=\"toc-item-num\">4.5&nbsp;&nbsp;</span>Advantages and disadvantages of Compiler and Interpreter</a></span><ul class=\"toc-item\"><li><span><a href=\"#Advantages-of-Compiler\" data-toc-modified-id=\"Advantages-of-Compiler-4.5.1\"><span class=\"toc-item-num\">4.5.1&nbsp;&nbsp;</span>Advantages of Compiler</a></span></li><li><span><a href=\"#Disadvantages-of-Compiler\" data-toc-modified-id=\"Disadvantages-of-Compiler-4.5.2\"><span class=\"toc-item-num\">4.5.2&nbsp;&nbsp;</span>Disadvantages of Compiler</a></span></li><li><span><a href=\"#Advantages-of-Interpreter\" data-toc-modified-id=\"Advantages-of-Interpreter-4.5.3\"><span class=\"toc-item-num\">4.5.3&nbsp;&nbsp;</span>Advantages of Interpreter</a></span></li><li><span><a href=\"#Disadvantages-of-Interpreter\" data-toc-modified-id=\"Disadvantages-of-Interpreter-4.5.4\"><span class=\"toc-item-num\">4.5.4&nbsp;&nbsp;</span>Disadvantages of Interpreter</a></span></li></ul></li></ul></li><li><span><a href=\"#Most-Popular-Technologies-Language\" data-toc-modified-id=\"Most-Popular-Technologies-Language-5\"><span class=\"toc-item-num\">5&nbsp;&nbsp;</span>Most Popular Technologies Language</a></span></li><li><span><a href=\"#Python-(programming-language)\" data-toc-modified-id=\"Python-(programming-language)-6\"><span class=\"toc-item-num\">6&nbsp;&nbsp;</span>Python (programming language)</a></span><ul class=\"toc-item\"><li><span><a href=\"#Python-Implementations\" data-toc-modified-id=\"Python-Implementations-6.1\"><span class=\"toc-item-num\">6.1&nbsp;&nbsp;</span>Python Implementations</a></span><ul class=\"toc-item\"><li><span><a href=\"#\" data-toc-modified-id=\"-6.1.1\"><span class=\"toc-item-num\">6.1.1&nbsp;&nbsp;</span></a></span></li></ul></li></ul></li><li><span><a href=\"#Reference\" data-toc-modified-id=\"Reference-7\"><span class=\"toc-item-num\">7&nbsp;&nbsp;</span>Reference</a></span></li></ul></div>"
   ]
  },
  {
   "cell_type": "markdown",
   "id": "23328483",
   "metadata": {},
   "source": [
    "<img src=\"python.jpg\" width=500>"
   ]
  },
  {
   "cell_type": "markdown",
   "id": "09763811",
   "metadata": {},
   "source": [
    "# Computer program\n",
    "A computer program is a **sequence or set of instructions** in a programming language for a computer to execute. Computer programs are one component of software, which also includes documentation and other intangible components.\n",
    "\n",
    "A computer program in its human-readable form is called **source code**. Source code needs another computer program to execute because computers can only execute their native machine instructions. Therefore, source code may be translated to machine instructions using the language's **compiler**. (Machine language programs are translated using an assembler.) The resulting file is called an **executable**. Alternatively, source code may execute within the language's **interpreter**."
   ]
  },
  {
   "cell_type": "markdown",
   "id": "7f61f686",
   "metadata": {},
   "source": [
    "# Computer Programming\n",
    "Computer programming is the **process of performing a particular computation** (or more generally, accomplishing a specific computing result), usually by designing and building an **executable computer program**. Programming **involves tasks** such as `analysis, generating algorithms, profiling algorithms' accuracy and resource consumption, and the implementation of algorithms` (usually in a chosen programming language, commonly referred to as coding)."
   ]
  },
  {
   "cell_type": "markdown",
   "id": "99b6b61f",
   "metadata": {},
   "source": [
    "# Programming language\n",
    "A programming language is a **system of notation for writing computer programs**. Most programming languages are **text-based** formal languages, but they may also be **graphical**. They are a **kind of computer language**. "
   ]
  },
  {
   "cell_type": "markdown",
   "id": "92b95df0",
   "metadata": {},
   "source": [
    "# Types of Programming Language\n",
    "## Compiler\n",
    "A compiler is a **language translator that converts high level programs into machine understandable machine codes**. In this process, the compiler **converts the whole program to machine code at a time**. If there are any syntactic or semantic error, the compiler will indicate them. It checks the whole program and displays all errors. It is not possible to execute the program without fixing those errors.\n",
    "\n",
    "Programming languages such as **C, C++** uses a compiler for language conversion. **The execution time is lower in these languages. Therefore, they are considered fast languages.**\n",
    "\n",
    "## Interpreter\n",
    "An interpreter is also a **language translator that converts high level programs into machine codes**. Unlike compilers, **interpreters convert the source code to machine code line by line**. **As it checks line by line, the scanning time is lower. But the overall execution time is higher.**\n",
    "\n",
    "Interpreter displays an error at a time. The programmer should fix that error to interpret the next line. Programming languages such as **Python, Ruby, PHP, Perl** are some examples of interpreter-based languages.\n",
    "\n",
    "## Assembler\n",
    "In addition to high level languages and machine language, there is another language called the assembly language. Assembly language is in between the high level languages and machine language. It is closer to machine language than high level languages. It is also called low level language. This language is not easily readable and understandable by the programmer like a high level programming language. The assembler works as the translator in converting the assembly language program to machine code.\n",
    "\n",
    "## Difference Between Compiler Interpreter and Assembler\n",
    "The main difference between compiler interpreter and assembler is that **`compiler converts the whole high level language program to machine language at a time`** while **`interpreter converts high level language program to machine language line by line`** and **`assembler converts assembly language program to machine language`**.\n",
    "\n",
    "## Advantages and disadvantages of Compiler and Interpreter\n",
    "### Advantages of Compiler\n",
    "1. **Runs Faster** → It runs faster than the Interpreter since the source code is already compiled and we only need to execute the executable file is generated.\n",
    "2. **Optimized** → Machine code of executable file generated with a compiler is often a native machine instruction for the targeted machine which is well optimized and runs faster. \n",
    "3. **Secure** → Executable files generated from the compiler can be executed on any of your clients or other systems without the need for actual source code. Which makes your program unhackable, secure and private\n",
    "4. **No dependencies** → Your client or anyone else doesn’t need any compiler, interpreter, or third party program to be installed in their system, for executing the shared executable file of your source code.\n",
    "\n",
    "### Disadvantages of Compiler\n",
    "1. **Extra Memory** → It occupies extra memory since it needs to generate a new file.\n",
    "2. **Extra step** → Unlike interpreter, we can’t run our source code directly, we need to additionally run the executable file.\n",
    "3. **Incompatibility issue** → Since its code is optimized for the system it was executed on, which many times leads to system incompatibility issue even if the system is running on the same OS.\n",
    "4. **Harder to Debug** → After reading the whole code it returns all errors at once if available, which makes it harder to navigate and fix the error.\n",
    "\n",
    "### Advantages of Interpreter\n",
    "1. **Cross-Platform** → In interpreted language we directly share the source code which can run on any system without any system incompatibility issue.\n",
    "2. **Easier To Debug** → Code debugging is easier in interpreters since it reads the code line by line, and returns the error message on the spot. Also, the client with the source code can debug or modify the code easily if they need to.\n",
    "3. **Less Memory and Step** → Unlike the compiler, interpreters don’t generate new separate files. So it doesn’t take extra Memory and we don’t need to perform one extra step to execute the source code, it is executed on the fly.\n",
    "4. **Execution Control** → Interpreter reads code line by line so you can stop the execution and edit the code at any point, which is not possible in a compiled language. However, after being stopped it will start from the beginning if you execute the code again.\n",
    "\n",
    "### Disadvantages of Interpreter\n",
    "1. **Slower** → Interpreter is often slower than compiler as it reads, analyzes and converts the code line by line.\n",
    "2. **Dependencies file required** → A client or anyone with the shared source code needs to have an interpreter installed in their system, in order to execute the code.\n",
    "3. **Less Secure** → Unlike compiled languages, an interpreter doesn’t generate any executable file so to share the program with others we need to share our source code which is not secure and private. So it is not good for any company or corporations who are concerned about their privacy."
   ]
  },
  {
   "cell_type": "markdown",
   "id": "c7db4c8e",
   "metadata": {},
   "source": [
    "# Most Popular Technologies Language\n",
    "\n",
    "https://survey.stackoverflow.co/2022/#most-popular-technologies-language\n",
    "\n",
    "![stack-overflow-developer-survey-2022.png](stack-overflow-developer-survey-2022.png)\n",
    "\n",
    "\n",
    "\n",
    "https://octoverse.github.com/2022/top-programming-languages\n",
    "\n",
    "![the-top-programming-languages.png](the-top-programming-languages.png)\n"
   ]
  },
  {
   "cell_type": "markdown",
   "id": "49627e0b",
   "metadata": {},
   "source": [
    "# Python (programming language)\n",
    "Python is a **high-level, general-purpose programming language**. Its design philosophy emphasizes **code readability** with the use of significant indentation.\n",
    "\n",
    "Python is **dynamically-typed** (where the interpreter assigns variables a type at **runtime** based on the variable's value at the time) and **garbage-collected** (In computer science, garbage collection (GC) is a form of **automatic memory management**. The garbage collector attempts to reclaim memory which was allocated by the program, but is no longer referenced; such memory is called garbage). It supports **multiple programming paradigms**, including structured (particularly `procedural`), `object-oriented` and `functional programming`. It is often described as a \"batteries included\" language due to its **comprehensive standard library**.\n",
    "\n",
    "**Guido van Rossum** began working on Python in the late 1980s as a successor to the ABC programming language and first released it in 1991 as Python 0.9.0. Python 2.0 was released in 2000 and introduced new features such as list comprehensions, cycle-detecting garbage collection, reference counting(In computer science, reference counting is a programming technique of **storing the number of references, pointers, or handles to a resource**, such as **`an object, a block of memory, disk space, and others`**.In garbage collection algorithms, reference counts may be used to **deallocate objects** that are no longer needed), and Unicode support. `Python 3.0, released in 2008`, was a major revision that is not completely backward-compatible with earlier versions. Python 2 was discontinued with version 2.7.18 in 2020.\n",
    "\n",
    "Python's name is derived from the **British comedy group Monty Python**, whom Python creator Guido van Rossum enjoyed while developing the language.\n",
    "\n",
    "\n",
    "<img src=\"python_powered.png\" width=700>\n",
    "\n",
    "## Python Implementations\n",
    "### "
   ]
  },
  {
   "cell_type": "markdown",
   "id": "8b90cab4",
   "metadata": {},
   "source": [
    "# Reference\n",
    "1. https://en.wikipedia.org/wiki/Computer_program\n",
    "2. https://en.wikipedia.org/wiki/Computer_programming\n",
    "3. https://en.wikipedia.org/wiki/Programming_language\n",
    "4. https://pediaa.com/difference-between-compiler-interpreter-and-assembler/#Compiler\n",
    "5. https://en.wikipedia.org/wiki/Python_(programming_language)\n",
    "6. https://buggyprogrammer.com/advantages-and-disadvantages-of-compiler-and-interpreter/\n",
    "7. https://en.wikipedia.org/wiki/Garbage_collection_(computer_science)\n",
    "8. https://en.wikipedia.org/wiki/Reference_counting\n",
    "9. \n",
    "\n",
    "\n",
    "7. https://en.wikipedia.org/wiki/CPython\n",
    "8. https://en.wikipedia.org/wiki/Jython\n",
    "9. https://en.wikipedia.org/wiki/IronPython\n",
    "10. https://ironpython.net/\n",
    "11. https://www.pypy.org/\n",
    "12. https://www.python.org/download/alternatives/\n",
    "\n",
    "\n",
    "https://medium.com/swlh/understanding-python-implementations-53015a3698e5\n",
    "\n",
    "\n",
    "\n"
   ]
  }
 ],
 "metadata": {
  "kernelspec": {
   "display_name": "Python 3 (ipykernel)",
   "language": "python",
   "name": "python3"
  },
  "language_info": {
   "codemirror_mode": {
    "name": "ipython",
    "version": 3
   },
   "file_extension": ".py",
   "mimetype": "text/x-python",
   "name": "python",
   "nbconvert_exporter": "python",
   "pygments_lexer": "ipython3",
   "version": "3.9.13"
  },
  "toc": {
   "base_numbering": 1,
   "nav_menu": {},
   "number_sections": true,
   "sideBar": false,
   "skip_h1_title": false,
   "title_cell": "Table of Contents",
   "title_sidebar": "Contents",
   "toc_cell": true,
   "toc_position": {
    "height": "47.05px",
    "left": "1023px",
    "top": "110.233px",
    "width": "158.333px"
   },
   "toc_section_display": false,
   "toc_window_display": true
  }
 },
 "nbformat": 4,
 "nbformat_minor": 5
}
