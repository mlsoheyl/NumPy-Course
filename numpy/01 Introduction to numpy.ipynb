{
 "cells": [
  {
   "cell_type": "markdown",
   "id": "e3a33510",
   "metadata": {
    "toc": true
   },
   "source": [
    "<h1>Table of Contents<span class=\"tocSkip\"></span></h1>\n",
    "<div class=\"toc\"><ul class=\"toc-item\"><li><span><a href=\"#Introduction-to-Numpy\" data-toc-modified-id=\"Introduction-to-Numpy-1\"><span class=\"toc-item-num\">1&nbsp;&nbsp;</span>Introduction to Numpy</a></span><ul class=\"toc-item\"><li><span><a href=\"#What-is-Numpy?\" data-toc-modified-id=\"What-is-Numpy?-1.1\"><span class=\"toc-item-num\">1.1&nbsp;&nbsp;</span>What is Numpy?</a></span></li><li><span><a href=\"#Why-Use-NumPy?\" data-toc-modified-id=\"Why-Use-NumPy?-1.2\"><span class=\"toc-item-num\">1.2&nbsp;&nbsp;</span>Why Use NumPy?</a></span></li><li><span><a href=\"#Why-is-NumPy-Faster-Than-Lists?\" data-toc-modified-id=\"Why-is-NumPy-Faster-Than-Lists?-1.3\"><span class=\"toc-item-num\">1.3&nbsp;&nbsp;</span>Why is NumPy Faster Than Lists?</a></span></li><li><span><a href=\"#Which-Language-is-NumPy-written-in?\" data-toc-modified-id=\"Which-Language-is-NumPy-written-in?-1.4\"><span class=\"toc-item-num\">1.4&nbsp;&nbsp;</span>Which Language is NumPy written in?</a></span></li><li><span><a href=\"#Where-is-the-NumPy-Codebase?\" data-toc-modified-id=\"Where-is-the-NumPy-Codebase?-1.5\"><span class=\"toc-item-num\">1.5&nbsp;&nbsp;</span>Where is the NumPy Codebase?</a></span></li></ul></li><li><span><a href=\"#Installing-NumPy\" data-toc-modified-id=\"Installing-NumPy-2\"><span class=\"toc-item-num\">2&nbsp;&nbsp;</span>Installing NumPy</a></span></li><li><span><a href=\"#References\" data-toc-modified-id=\"References-3\"><span class=\"toc-item-num\">3&nbsp;&nbsp;</span>References</a></span></li></ul></div>"
   ]
  },
  {
   "cell_type": "markdown",
   "id": "f1263960",
   "metadata": {},
   "source": [
    "# Introduction to Numpy\n",
    "<img src=\"./numpy-logo.svg\" width=\"500\" height=\"500\">\n",
    "\n",
    "## What is Numpy?\n",
    "NumPy was created in 2005 by Travis Oliphant. It is an open source project and you can use it freely. It is the fundamental package for scientific computing in Python. It is a Python library that provides a multidimensional array object, various derived objects (such as masked arrays and matrices), and an assortment of routines for fast operations on arrays, including mathematical, logical, shape manipulation, sorting, selecting, I/O, discrete Fourier transforms, basic linear algebra, basic statistical operations, random simulation and much more.\n",
    "\n",
    "## Why Use NumPy?\n",
    "In Python we have lists that serve the purpose of arrays, but they are slow to process.\n",
    "NumPy aims to provide an array object that is up to 50x faster than traditional Python lists.\n",
    "The array object in NumPy is called `ndarray`, it provides a lot of supporting functions that make working with `ndarray` very easy.\n",
    "Arrays are very frequently used in data science, where speed and resources are very important.\n",
    "\n",
    "## Why is NumPy Faster Than Lists?\n",
    "NumPy arrays are stored at one continuous place in memory unlike lists, so processes can access and manipulate them very efficiently.\n",
    "This behavior is called locality of reference in computer science.\n",
    "This is the main reason why NumPy is faster than lists. Also it is optimized to work with latest CPU architectures.\n",
    "\n",
    "## Which Language is NumPy written in?\n",
    "NumPy is a Python library and is written partially in Python, but most of the parts that require fast computation are written in C or C++.\n",
    "\n",
    "## Where is the NumPy Codebase?\n",
    "The source code for NumPy is located at this github repository https://github.com/numpy/numpy"
   ]
  },
  {
   "cell_type": "markdown",
   "id": "c33cf2f1",
   "metadata": {},
   "source": [
    "# Installing NumPy\n",
    "The only prerequisite for installing NumPy is Python itself. If you don’t have Python yet and want the simplest way to get started, we recommend you use the `Anaconda Distribution` - it includes Python, NumPy, and many other commonly used packages for scientific computing and data science.\n",
    "\n",
    "NumPy can be installed with `conda`, `pip` with a package manager on macOS and Linux, or [from source](https://numpy.org/devdocs/user/building.html).\n",
    "\n",
    "```python\n",
    "pip install numpy\n",
    "```"
   ]
  },
  {
   "cell_type": "code",
   "execution_count": null,
   "id": "37bf48ed",
   "metadata": {},
   "outputs": [],
   "source": []
  },
  {
   "cell_type": "code",
   "execution_count": null,
   "id": "6e105b6c",
   "metadata": {},
   "outputs": [],
   "source": []
  },
  {
   "cell_type": "code",
   "execution_count": null,
   "id": "b930f2d3",
   "metadata": {},
   "outputs": [],
   "source": []
  },
  {
   "cell_type": "code",
   "execution_count": 3,
   "id": "28cf6100",
   "metadata": {
    "lang": "en"
   },
   "outputs": [
    {
     "ename": "TypeError",
     "evalue": "can't multiply sequence by non-int of type 'list'",
     "output_type": "error",
     "traceback": [
      "\u001b[1;31m---------------------------------------------------------------------------\u001b[0m",
      "\u001b[1;31mTypeError\u001b[0m                                 Traceback (most recent call last)",
      "Input \u001b[1;32mIn [3]\u001b[0m, in \u001b[0;36m<cell line: 3>\u001b[1;34m()\u001b[0m\n\u001b[0;32m      1\u001b[0m a \u001b[38;5;241m=\u001b[39m [\u001b[38;5;241m1\u001b[39m, \u001b[38;5;241m2\u001b[39m, \u001b[38;5;241m3\u001b[39m]\n\u001b[0;32m      2\u001b[0m b \u001b[38;5;241m=\u001b[39m [\u001b[38;5;241m4\u001b[39m, \u001b[38;5;241m5\u001b[39m, \u001b[38;5;241m6\u001b[39m]\n\u001b[1;32m----> 3\u001b[0m c \u001b[38;5;241m=\u001b[39m \u001b[43ma\u001b[49m\u001b[43m \u001b[49m\u001b[38;5;241;43m*\u001b[39;49m\u001b[43m \u001b[49m\u001b[43mb\u001b[49m\n",
      "\u001b[1;31mTypeError\u001b[0m: can't multiply sequence by non-int of type 'list'"
     ]
    }
   ],
   "source": [
    "a = [1, 2, 3]\n",
    "b = [4, 5, 6]\n",
    "c = a * b"
   ]
  },
  {
   "cell_type": "markdown",
   "id": "d4ed3a9d",
   "metadata": {},
   "source": [
    "for example see try code:\n",
    "\n",
    "```python\n",
    "a = [1, 2, 3]\n",
    "b = [4, 5, 6]\n",
    "c = a * b\n",
    "```"
   ]
  },
  {
   "cell_type": "markdown",
   "id": "37d205a7",
   "metadata": {},
   "source": [
    "# References\n",
    "1. https://numpy.org/\n",
    "2. https://www.w3schools.com/python/numpy/"
   ]
  },
  {
   "cell_type": "code",
   "execution_count": null,
   "id": "0eefd6c5",
   "metadata": {},
   "outputs": [],
   "source": []
  }
 ],
 "metadata": {
  "kernelspec": {
   "display_name": ".venv",
   "language": "python",
   "name": ".venv"
  },
  "language_info": {
   "codemirror_mode": {
    "name": "ipython",
    "version": 3
   },
   "file_extension": ".py",
   "mimetype": "text/x-python",
   "name": "python",
   "nbconvert_exporter": "python",
   "pygments_lexer": "ipython3",
   "version": "3.10.8"
  },
  "nbTranslate": {
   "displayLangs": [
    "*"
   ],
   "hotkey": "alt-t",
   "langInMainMenu": true,
   "sourceLang": "en",
   "targetLang": "fr",
   "useGoogleTranslate": true
  },
  "toc": {
   "base_numbering": 1,
   "nav_menu": {},
   "number_sections": true,
   "sideBar": true,
   "skip_h1_title": false,
   "title_cell": "Table of Contents",
   "title_sidebar": "Contents",
   "toc_cell": true,
   "toc_position": {
    "height": "calc(100% - 180px)",
    "left": "10px",
    "top": "150px",
    "width": "282.825px"
   },
   "toc_section_display": true,
   "toc_window_display": false
  }
 },
 "nbformat": 4,
 "nbformat_minor": 5
}
