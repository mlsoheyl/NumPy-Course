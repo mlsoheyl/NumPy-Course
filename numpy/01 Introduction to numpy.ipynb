{
 "cells": [
  {
   "cell_type": "markdown",
   "id": "e3a33510",
   "metadata": {
    "toc": true
   },
   "source": [
    "<h1>Table of Contents<span class=\"tocSkip\"></span></h1>\n",
    "<div class=\"toc\"><ul class=\"toc-item\"><li><span><a href=\"#Introduction-to-Numpy\" data-toc-modified-id=\"Introduction-to-Numpy-1\"><span class=\"toc-item-num\">1&nbsp;&nbsp;</span>Introduction to Numpy</a></span><ul class=\"toc-item\"><li><span><a href=\"#What-is-Numpy?\" data-toc-modified-id=\"What-is-Numpy?-1.1\"><span class=\"toc-item-num\">1.1&nbsp;&nbsp;</span>What is Numpy?</a></span></li><li><span><a href=\"#Why-Use-NumPy?\" data-toc-modified-id=\"Why-Use-NumPy?-1.2\"><span class=\"toc-item-num\">1.2&nbsp;&nbsp;</span>Why Use NumPy?</a></span></li><li><span><a href=\"#Why-is-NumPy-Faster-Than-Lists?\" data-toc-modified-id=\"Why-is-NumPy-Faster-Than-Lists?-1.3\"><span class=\"toc-item-num\">1.3&nbsp;&nbsp;</span>Why is NumPy Faster Than Lists?</a></span></li><li><span><a href=\"#Which-Language-is-NumPy-written-in?\" data-toc-modified-id=\"Which-Language-is-NumPy-written-in?-1.4\"><span class=\"toc-item-num\">1.4&nbsp;&nbsp;</span>Which Language is NumPy written in?</a></span></li><li><span><a href=\"#Where-is-the-NumPy-Codebase?\" data-toc-modified-id=\"Where-is-the-NumPy-Codebase?-1.5\"><span class=\"toc-item-num\">1.5&nbsp;&nbsp;</span>Where is the NumPy Codebase?</a></span></li></ul></li><li><span><a href=\"#Installing-NumPy\" data-toc-modified-id=\"Installing-NumPy-2\"><span class=\"toc-item-num\">2&nbsp;&nbsp;</span>Installing NumPy</a></span></li><li><span><a href=\"#Getting-Started\" data-toc-modified-id=\"Getting-Started-3\"><span class=\"toc-item-num\">3&nbsp;&nbsp;</span>Getting Started</a></span><ul class=\"toc-item\"><li><span><a href=\"#Import-NumPy\" data-toc-modified-id=\"Import-NumPy-3.1\"><span class=\"toc-item-num\">3.1&nbsp;&nbsp;</span>Import NumPy</a></span></li><li><span><a href=\"#NumPy-as-np\" data-toc-modified-id=\"NumPy-as-np-3.2\"><span class=\"toc-item-num\">3.2&nbsp;&nbsp;</span>NumPy as np</a></span></li><li><span><a href=\"#Checking-NumPy-Version\" data-toc-modified-id=\"Checking-NumPy-Version-3.3\"><span class=\"toc-item-num\">3.3&nbsp;&nbsp;</span>Checking NumPy Version</a></span></li></ul></li><li><span><a href=\"#NumPy-Creating-Arrays\" data-toc-modified-id=\"NumPy-Creating-Arrays-4\"><span class=\"toc-item-num\">4&nbsp;&nbsp;</span>NumPy Creating Arrays</a></span><ul class=\"toc-item\"><li><span><a href=\"#Create-a-NumPy-ndarray-Object\" data-toc-modified-id=\"Create-a-NumPy-ndarray-Object-4.1\"><span class=\"toc-item-num\">4.1&nbsp;&nbsp;</span>Create a NumPy ndarray Object</a></span></li><li><span><a href=\"#Dimensions-in-Arrays\" data-toc-modified-id=\"Dimensions-in-Arrays-4.2\"><span class=\"toc-item-num\">4.2&nbsp;&nbsp;</span>Dimensions in Arrays</a></span><ul class=\"toc-item\"><li><span><a href=\"#0-D-Arrays\" data-toc-modified-id=\"0-D-Arrays-4.2.1\"><span class=\"toc-item-num\">4.2.1&nbsp;&nbsp;</span>0-D Arrays</a></span></li><li><span><a href=\"#1-D-Arrays\" data-toc-modified-id=\"1-D-Arrays-4.2.2\"><span class=\"toc-item-num\">4.2.2&nbsp;&nbsp;</span>1-D Arrays</a></span></li><li><span><a href=\"#2-D-Arrays\" data-toc-modified-id=\"2-D-Arrays-4.2.3\"><span class=\"toc-item-num\">4.2.3&nbsp;&nbsp;</span>2-D Arrays</a></span></li><li><span><a href=\"#3-D-arrays\" data-toc-modified-id=\"3-D-arrays-4.2.4\"><span class=\"toc-item-num\">4.2.4&nbsp;&nbsp;</span>3-D arrays</a></span></li></ul></li><li><span><a href=\"#Check-Number-of-Dimensions?\" data-toc-modified-id=\"Check-Number-of-Dimensions?-4.3\"><span class=\"toc-item-num\">4.3&nbsp;&nbsp;</span>Check Number of Dimensions?</a></span></li><li><span><a href=\"#Higher-Dimensional-Arrays\" data-toc-modified-id=\"Higher-Dimensional-Arrays-4.4\"><span class=\"toc-item-num\">4.4&nbsp;&nbsp;</span>Higher Dimensional Arrays</a></span></li></ul></li><li><span><a href=\"#NumPy-Array-Indexing\" data-toc-modified-id=\"NumPy-Array-Indexing-5\"><span class=\"toc-item-num\">5&nbsp;&nbsp;</span>NumPy Array Indexing</a></span><ul class=\"toc-item\"><li><span><a href=\"#Access-Array-Elements\" data-toc-modified-id=\"Access-Array-Elements-5.1\"><span class=\"toc-item-num\">5.1&nbsp;&nbsp;</span>Access Array Elements</a></span></li><li><span><a href=\"#Access-2-D-Arrays\" data-toc-modified-id=\"Access-2-D-Arrays-5.2\"><span class=\"toc-item-num\">5.2&nbsp;&nbsp;</span>Access 2-D Arrays</a></span></li><li><span><a href=\"#Access-3-D-Arrays\" data-toc-modified-id=\"Access-3-D-Arrays-5.3\"><span class=\"toc-item-num\">5.3&nbsp;&nbsp;</span>Access 3-D Arrays</a></span></li><li><span><a href=\"#Negative-Indexing\" data-toc-modified-id=\"Negative-Indexing-5.4\"><span class=\"toc-item-num\">5.4&nbsp;&nbsp;</span>Negative Indexing</a></span></li></ul></li><li><span><a href=\"#NumPy-Array-Slicing\" data-toc-modified-id=\"NumPy-Array-Slicing-6\"><span class=\"toc-item-num\">6&nbsp;&nbsp;</span>NumPy Array Slicing</a></span><ul class=\"toc-item\"><li><span><a href=\"#Slicing-arrays\" data-toc-modified-id=\"Slicing-arrays-6.1\"><span class=\"toc-item-num\">6.1&nbsp;&nbsp;</span>Slicing arrays</a></span></li><li><span><a href=\"#Negative-Slicing\" data-toc-modified-id=\"Negative-Slicing-6.2\"><span class=\"toc-item-num\">6.2&nbsp;&nbsp;</span>Negative Slicing</a></span></li><li><span><a href=\"#STEP\" data-toc-modified-id=\"STEP-6.3\"><span class=\"toc-item-num\">6.3&nbsp;&nbsp;</span>STEP</a></span></li><li><span><a href=\"#Slicing-2-D-Arrays\" data-toc-modified-id=\"Slicing-2-D-Arrays-6.4\"><span class=\"toc-item-num\">6.4&nbsp;&nbsp;</span>Slicing 2-D Arrays</a></span></li></ul></li><li><span><a href=\"#NumPy-Data-Types\" data-toc-modified-id=\"NumPy-Data-Types-7\"><span class=\"toc-item-num\">7&nbsp;&nbsp;</span>NumPy Data Types</a></span><ul class=\"toc-item\"><li><span><a href=\"#Data-Types-in-Python\" data-toc-modified-id=\"Data-Types-in-Python-7.1\"><span class=\"toc-item-num\">7.1&nbsp;&nbsp;</span>Data Types in Python</a></span></li><li><span><a href=\"#Data-Types-in-NumPy\" data-toc-modified-id=\"Data-Types-in-NumPy-7.2\"><span class=\"toc-item-num\">7.2&nbsp;&nbsp;</span>Data Types in NumPy</a></span></li><li><span><a href=\"#Checking-the-Data-Type-of-an-Array\" data-toc-modified-id=\"Checking-the-Data-Type-of-an-Array-7.3\"><span class=\"toc-item-num\">7.3&nbsp;&nbsp;</span>Checking the Data Type of an Array</a></span></li><li><span><a href=\"#What-if-a-Value-Can-Not-Be-Converted?\" data-toc-modified-id=\"What-if-a-Value-Can-Not-Be-Converted?-7.4\"><span class=\"toc-item-num\">7.4&nbsp;&nbsp;</span>What if a Value Can Not Be Converted?</a></span></li></ul></li><li><span><a href=\"#References\" data-toc-modified-id=\"References-8\"><span class=\"toc-item-num\">8&nbsp;&nbsp;</span>References</a></span></li><li><span><a href=\"#Other-Links\" data-toc-modified-id=\"Other-Links-9\"><span class=\"toc-item-num\">9&nbsp;&nbsp;</span>Other Links</a></span></li></ul></div>"
   ]
  },
  {
   "cell_type": "markdown",
   "id": "f1263960",
   "metadata": {},
   "source": [
    "# Introduction to Numpy\n",
    "<img src=\"./numpylogo.svg\" width=\"500\" height=\"500\">\n",
    "\n",
    "## What is Numpy?\n",
    "NumPy was created in 2005 by **Travis Oliphant**. It is an **open source** project and you can use it freely. It is the fundamental package for **scientific computing** in Python. It is a Python **library** that provides a **multidimensional array object**, various derived objects (such as masked arrays and matrices), and an assortment of routines for **fast operations on arrays**, including mathematical, logical, shape manipulation, sorting, selecting, I/O, discrete Fourier transforms, basic linear algebra, basic statistical operations, random simulation and much more.\n",
    "\n",
    "At the core of the NumPy package, is the **ndarray object**. This encapsulates n-dimensional arrays of homogeneous data types, with many operations being performed in compiled code for performance. There are several important **differences between NumPy arrays and the standard Python sequences**:\n",
    "\n",
    "<ul>\n",
    "    <li>NumPy arrays have a fixed size at creation, unlike Python lists (which can grow dynamically). Changing the size of an ndarray will create a new array and delete the original.</li>\n",
    "    <li>The elements in a NumPy array are all required to be of the same data type, and thus will be the same size in memory. The exception: one can have arrays of (Python, including NumPy) objects, thereby allowing for arrays of different sized elements.</li>\n",
    "    <li>NumPy arrays facilitate advanced mathematical and other types of operations on large numbers of data. Typically, such operations are executed more efficiently and with less code than is possible using Python’s built-in sequences.</li>\n",
    "    <li>A growing plethora of scientific and mathematical Python-based packages are using NumPy arrays; though these typically support Python-sequence input, they convert such input to NumPy arrays prior to processing, and they often output NumPy arrays. In other words, in order to efficiently use much (perhaps even most) of today’s scientific/mathematical Python-based software, just knowing how to use Python’s built-in sequence types is insufficient - one also needs to know how to use NumPy arrays.</li>\n",
    "</ul>\n",
    "\n",
    "\n",
    "## Why Use NumPy?\n",
    "In Python we have **lists** that serve the purpose of arrays, but they are **slow to process**.\n",
    "NumPy aims to provide an array object that is up to **50x faster** than traditional Python lists.\n",
    "The array object in NumPy is called **`ndarray`**, it provides a lot of supporting functions that make working with `ndarray` very easy.\n",
    "Arrays are very frequently used in data science, where speed and resources are very important.\n",
    "\n",
    "## Why is NumPy Faster Than Lists?\n",
    "NumPy arrays are stored at **one continuous place in memory** unlike lists, so processes can access and manipulate them very efficiently.\n",
    "This behavior is called **locality of reference** in computer science.\n",
    "This is the main reason why NumPy is faster than lists. Also it is optimized to work with latest CPU architectures.\n",
    "\n",
    "## Which Language is NumPy written in?\n",
    "NumPy is a Python library and is written partially in **Python**, but most of the parts that require fast computation are written in **C** or **C++**.\n",
    "\n",
    "## Where is the NumPy Codebase?\n",
    "The source code for NumPy is located at this github repository https://github.com/numpy/numpy"
   ]
  },
  {
   "cell_type": "markdown",
   "id": "c33cf2f1",
   "metadata": {},
   "source": [
    "# Installing NumPy\n",
    "The only prerequisite for installing NumPy is Python itself. If you don’t have Python yet and want the simplest way to get started, we recommend you use the `Anaconda Distribution` - it includes Python, NumPy, and many other commonly used packages for scientific computing and data science.\n",
    "\n",
    "NumPy can be installed with `conda`, `pip` with a package manager on macOS and Linux, or [from source](https://numpy.org/devdocs/user/building.html).\n",
    "\n",
    "```python\n",
    "> pip install numpy\n",
    "```"
   ]
  },
  {
   "cell_type": "markdown",
   "id": "3fd0a479",
   "metadata": {},
   "source": [
    "# Getting Started\n",
    "## Import NumPy\n",
    "Once NumPy is installed, import it in your applications by adding the `import` keyword:\n",
    "\n",
    "\n",
    "```python\n",
    "import numpy\n",
    "```"
   ]
  },
  {
   "cell_type": "code",
   "execution_count": 1,
   "id": "04c32e32",
   "metadata": {},
   "outputs": [],
   "source": [
    "import numpy"
   ]
  },
  {
   "cell_type": "code",
   "execution_count": 2,
   "id": "b930f2d3",
   "metadata": {},
   "outputs": [
    {
     "name": "stdout",
     "output_type": "stream",
     "text": [
      "[1 2 3 4 5]\n"
     ]
    }
   ],
   "source": [
    "arr = numpy.array([1, 2, 3, 4, 5])\n",
    "\n",
    "print(arr)"
   ]
  },
  {
   "cell_type": "markdown",
   "id": "21b1cc68",
   "metadata": {},
   "source": [
    "## NumPy as np\n",
    "NumPy is usually imported under the `np` alias.\n",
    "\n",
    "Create an alias with the `as` keyword while importing:\n",
    "```python\n",
    "import numpy as np\n",
    "```"
   ]
  },
  {
   "cell_type": "code",
   "execution_count": 3,
   "id": "98192160",
   "metadata": {},
   "outputs": [],
   "source": [
    "import numpy as np"
   ]
  },
  {
   "cell_type": "code",
   "execution_count": 4,
   "id": "2d486475",
   "metadata": {},
   "outputs": [
    {
     "name": "stdout",
     "output_type": "stream",
     "text": [
      "[1 2 3 4 5]\n"
     ]
    }
   ],
   "source": [
    "arr = np.array([1, 2, 3, 4, 5])\n",
    "\n",
    "print(arr)"
   ]
  },
  {
   "cell_type": "markdown",
   "id": "a601660c",
   "metadata": {},
   "source": [
    "## Checking NumPy Version\n",
    "The version string is stored under `__version__` attribute.\n",
    "\n",
    "```python\n",
    "np.__version__\n",
    "```"
   ]
  },
  {
   "cell_type": "code",
   "execution_count": 5,
   "id": "426351e1",
   "metadata": {},
   "outputs": [
    {
     "name": "stdout",
     "output_type": "stream",
     "text": [
      "1.23.1\n"
     ]
    }
   ],
   "source": [
    "print(np.__version__)"
   ]
  },
  {
   "cell_type": "markdown",
   "id": "baacf26d",
   "metadata": {},
   "source": [
    "# NumPy Creating Arrays\n",
    "## Create a NumPy ndarray Object\n",
    "NumPy is used to work with arrays. The array object in NumPy is called `ndarray`.\n",
    "\n",
    "We can create a NumPy `ndarray` object by using the `array()` function.\n",
    "\n",
    "```python\n",
    "np.array()\n",
    "```"
   ]
  },
  {
   "cell_type": "code",
   "execution_count": 6,
   "id": "2acc8853",
   "metadata": {},
   "outputs": [
    {
     "name": "stdout",
     "output_type": "stream",
     "text": [
      "[1 2 3 4 5]\n",
      "<class 'numpy.ndarray'>\n"
     ]
    }
   ],
   "source": [
    "arr = np.array([1, 2, 3, 4, 5])\n",
    "\n",
    "print(arr)\n",
    "print(type(arr))"
   ]
  },
  {
   "cell_type": "markdown",
   "id": "3f562023",
   "metadata": {},
   "source": [
    "To create an `ndarray`, we can pass a list, tuple or any array-like object into the `array()` method, and it will be converted into an ndarray:"
   ]
  },
  {
   "cell_type": "code",
   "execution_count": 7,
   "id": "a7b737ee",
   "metadata": {},
   "outputs": [
    {
     "name": "stdout",
     "output_type": "stream",
     "text": [
      "[1 2 3 4]\n",
      "<class 'numpy.ndarray'>\n",
      "<class 'list'>\n"
     ]
    }
   ],
   "source": [
    "lst = [1, 2, 3, 4]\n",
    "arr = np.array(lst)\n",
    "\n",
    "print(arr)\n",
    "print(type(arr))\n",
    "print(type(lst))"
   ]
  },
  {
   "cell_type": "markdown",
   "id": "dcb38a38",
   "metadata": {},
   "source": [
    "## Dimensions in Arrays\n",
    "A dimension in arrays is one level of array depth (nested arrays).\n",
    "\n",
    "Nested array: are arrays that have arrays as their elements.\n",
    "\n",
    "### 0-D Arrays\n",
    "0-D arrays, or Scalars, are the elements in an array. Each value in an array is a 0-D array."
   ]
  },
  {
   "cell_type": "code",
   "execution_count": 8,
   "id": "04fd6750",
   "metadata": {},
   "outputs": [
    {
     "name": "stdout",
     "output_type": "stream",
     "text": [
      "42\n",
      "<class 'numpy.ndarray'>\n"
     ]
    }
   ],
   "source": [
    "arr = np.array(42)\n",
    "\n",
    "print(arr)\n",
    "print(type(arr))"
   ]
  },
  {
   "cell_type": "markdown",
   "id": "8006adc2",
   "metadata": {},
   "source": [
    "### 1-D Arrays\n",
    "An array that has 0-D arrays as its elements is called uni-dimensional or 1-D array.\n",
    "\n",
    "These are the most common and basic arrays."
   ]
  },
  {
   "cell_type": "code",
   "execution_count": 9,
   "id": "26800ff7",
   "metadata": {},
   "outputs": [
    {
     "name": "stdout",
     "output_type": "stream",
     "text": [
      "[1 2 3 4 5]\n"
     ]
    }
   ],
   "source": [
    "arr = np.array([1, 2, 3, 4, 5])\n",
    "\n",
    "print(arr)"
   ]
  },
  {
   "cell_type": "markdown",
   "id": "f1441d5b",
   "metadata": {},
   "source": [
    "### 2-D Arrays\n",
    "An array that has 1-D arrays as its elements is called a 2-D array.\n",
    "\n",
    "These are often used to represent matrix or 2nd order tensors.\n",
    "\n",
    "`NumPy has a whole sub module dedicated towards matrix operations called numpy.mat`"
   ]
  },
  {
   "cell_type": "code",
   "execution_count": 10,
   "id": "a9eadc5f",
   "metadata": {},
   "outputs": [
    {
     "name": "stdout",
     "output_type": "stream",
     "text": [
      "[[1 2 3]\n",
      " [4 5 6]]\n",
      "<class 'numpy.ndarray'>\n"
     ]
    }
   ],
   "source": [
    "arr = np.array([[1, 2, 3], [4, 5, 6]])\n",
    "\n",
    "print(arr)\n",
    "print(type(arr))"
   ]
  },
  {
   "cell_type": "code",
   "execution_count": 11,
   "id": "0067578d",
   "metadata": {},
   "outputs": [
    {
     "name": "stdout",
     "output_type": "stream",
     "text": [
      "[[1 2 3]\n",
      " [4 5 6]]\n",
      "<class 'numpy.matrix'>\n"
     ]
    }
   ],
   "source": [
    "matrix = np.mat([[1, 2, 3], [4, 5, 6]])\n",
    "\n",
    "print(matrix)\n",
    "print(type(matrix))"
   ]
  },
  {
   "cell_type": "markdown",
   "id": "25b8cc89",
   "metadata": {},
   "source": [
    "### 3-D arrays\n",
    "An array that has 2-D arrays (matrices) as its elements is called 3-D array.\n",
    "\n",
    "These are often used to represent a 3rd order tensor."
   ]
  },
  {
   "cell_type": "code",
   "execution_count": 12,
   "id": "6e9973eb",
   "metadata": {},
   "outputs": [
    {
     "name": "stdout",
     "output_type": "stream",
     "text": [
      "[[[1 2 3]\n",
      "  [4 5 6]]\n",
      "\n",
      " [[1 2 3]\n",
      "  [4 5 6]]]\n",
      "<class 'numpy.ndarray'>\n"
     ]
    }
   ],
   "source": [
    "arr = np.array([[[1, 2, 3], [4, 5, 6]], [[1, 2, 3], [4, 5, 6]]])\n",
    "\n",
    "print(arr)\n",
    "print(type(arr))"
   ]
  },
  {
   "cell_type": "markdown",
   "id": "a6094ede",
   "metadata": {},
   "source": [
    "## Check Number of Dimensions?\n",
    "NumPy Arrays provides the ndim attribute that returns an integer that tells us how many dimensions the array have."
   ]
  },
  {
   "cell_type": "code",
   "execution_count": 13,
   "id": "786af57b",
   "metadata": {},
   "outputs": [
    {
     "name": "stdout",
     "output_type": "stream",
     "text": [
      "0\n",
      "1\n",
      "2\n",
      "3\n"
     ]
    }
   ],
   "source": [
    "a = np.array(42)\n",
    "b = np.array([1, 2, 3, 4, 5])\n",
    "c = np.array([[1, 2, 3], [4, 5, 6]])\n",
    "d = np.array([[[1, 2, 3], [4, 5, 6]], [[1, 2, 3], [4, 5, 6]]])\n",
    "\n",
    "print(a.ndim)\n",
    "print(b.ndim)\n",
    "print(c.ndim)\n",
    "print(d.ndim)"
   ]
  },
  {
   "cell_type": "markdown",
   "id": "c57b3b06",
   "metadata": {},
   "source": [
    "## Higher Dimensional Arrays\n",
    "An array can have any number of dimensions.\n",
    "\n",
    "When the array is created, you can define the number of dimensions by using the `ndmin` argument."
   ]
  },
  {
   "cell_type": "code",
   "execution_count": 14,
   "id": "5d51b9dc",
   "metadata": {},
   "outputs": [
    {
     "name": "stdout",
     "output_type": "stream",
     "text": [
      "[[[[[1 2 3 4]]]]]\n",
      "number of dimensions : 5\n"
     ]
    }
   ],
   "source": [
    "arr = np.array([1, 2, 3, 4], ndmin=5)\n",
    "\n",
    "print(arr)\n",
    "print('number of dimensions :', arr.ndim)"
   ]
  },
  {
   "cell_type": "markdown",
   "id": "9284f159",
   "metadata": {},
   "source": [
    "In this array the innermost dimension (5th dim) has 4 elements, the 4th dim has 1 element that is the vector, the 3rd dim has 1 element that is the matrix with the vector, the 2nd dim has 1 element that is 3D array and 1st dim has 1 element that is a 4D array."
   ]
  },
  {
   "cell_type": "markdown",
   "id": "c60ccfce",
   "metadata": {},
   "source": [
    "# NumPy Array Indexing\n",
    "## Access Array Elements\n",
    "Array indexing is the same as accessing an array element.\n",
    "\n",
    "You can access an array element by referring to its index number.\n",
    "\n",
    "The indexes in NumPy arrays start with 0, meaning that the first element has index 0, and the second has index 1 etc."
   ]
  },
  {
   "cell_type": "code",
   "execution_count": 17,
   "id": "3ac5de6a",
   "metadata": {},
   "outputs": [
    {
     "name": "stdout",
     "output_type": "stream",
     "text": [
      "1\n",
      "2\n",
      "7\n"
     ]
    }
   ],
   "source": [
    "arr = np.array([1, 2, 3, 4])\n",
    "\n",
    "print(arr[0]) # Get the first element\n",
    "print(arr[1]) # Get the second element\n",
    "print(arr[2] + arr[3]) # Get third and fourth elements from the following array and add them"
   ]
  },
  {
   "cell_type": "markdown",
   "id": "b07f5ea4",
   "metadata": {},
   "source": [
    "## Access 2-D Arrays\n",
    "To access elements from 2-D arrays we can use comma separated integers representing the dimension and the index of the element.\n",
    "\n",
    "Think of 2-D arrays like a table with rows and columns, where the row represents the dimension and the index represents the column."
   ]
  },
  {
   "cell_type": "code",
   "execution_count": 19,
   "id": "ff8302d3",
   "metadata": {},
   "outputs": [
    {
     "name": "stdout",
     "output_type": "stream",
     "text": [
      "[[ 1  2  3  4  5]\n",
      " [ 6  7  8  9 10]] \n",
      "\n",
      "2nd element on 1st row:  2\n"
     ]
    }
   ],
   "source": [
    "arr = np.array([[1,2,3,4,5], [6,7,8,9,10]])\n",
    "\n",
    "print(arr, '\\n')\n",
    "print('2nd element on 1st row: ', arr[0, 1]) # Access the element on the first row, second column"
   ]
  },
  {
   "cell_type": "code",
   "execution_count": 20,
   "id": "c496c286",
   "metadata": {},
   "outputs": [
    {
     "name": "stdout",
     "output_type": "stream",
     "text": [
      "[[ 1  2  3  4  5]\n",
      " [ 6  7  8  9 10]] \n",
      "\n",
      "5th element on 2nd row:  10\n"
     ]
    }
   ],
   "source": [
    "arr = np.array([[1,2,3,4,5], [6,7,8,9,10]])\n",
    "\n",
    "print(arr, '\\n')\n",
    "print('5th element on 2nd row: ', arr[1, 4]) # Access the element on the 2nd row, 5th column"
   ]
  },
  {
   "cell_type": "markdown",
   "id": "5af89ebd",
   "metadata": {},
   "source": [
    "## Access 3-D Arrays\n",
    "To access elements from 3-D arrays we can use comma separated integers representing the dimensions and the index of the element."
   ]
  },
  {
   "cell_type": "code",
   "execution_count": 21,
   "id": "7ed4e012",
   "metadata": {},
   "outputs": [
    {
     "name": "stdout",
     "output_type": "stream",
     "text": [
      "[[[ 1  2  3]\n",
      "  [ 4  5  6]]\n",
      "\n",
      " [[ 7  8  9]\n",
      "  [10 11 12]]] \n",
      "\n",
      "6\n"
     ]
    }
   ],
   "source": [
    "arr = np.array([[[1, 2, 3], [4, 5, 6]], [[7, 8, 9], [10, 11, 12]]])\n",
    "\n",
    "print(arr, '\\n')\n",
    "print(arr[0, 1, 2]) # Access the third element of the second array of the first array"
   ]
  },
  {
   "cell_type": "markdown",
   "id": "019a516b",
   "metadata": {},
   "source": [
    "## Negative Indexing\n",
    "Use negative indexing to access an array from the end."
   ]
  },
  {
   "cell_type": "code",
   "execution_count": 22,
   "id": "e2fc3ff4",
   "metadata": {},
   "outputs": [
    {
     "name": "stdout",
     "output_type": "stream",
     "text": [
      "[[ 1  2  3  4  5]\n",
      " [ 6  7  8  9 10]] \n",
      "\n",
      "Last element from 2nd dim:  10\n"
     ]
    }
   ],
   "source": [
    "arr = np.array([[1,2,3,4,5], [6,7,8,9,10]])\n",
    "\n",
    "print(arr, '\\n')\n",
    "print('Last element from 2nd dim: ', arr[1, -1])"
   ]
  },
  {
   "cell_type": "markdown",
   "id": "dbc0c61f",
   "metadata": {},
   "source": [
    "# NumPy Array Slicing\n",
    "## Slicing arrays\n",
    "Slicing in python means taking elements from one given index to another given index.\n",
    "\n",
    "We pass slice instead of index like this: [start:end].\n",
    "\n",
    "We can also define the step, like this: [start:end:step].\n",
    "\n",
    "If we don't pass start its considered 0\n",
    "\n",
    "If we don't pass end its considered length of array in that dimension\n",
    "\n",
    "If we don't pass step its considered 1\n",
    "\n",
    "**Note: The result includes the start index, but excludes the end index.**"
   ]
  },
  {
   "cell_type": "code",
   "execution_count": 23,
   "id": "a83e0c7c",
   "metadata": {},
   "outputs": [
    {
     "name": "stdout",
     "output_type": "stream",
     "text": [
      "[1 2 3 4 5 6 7] \n",
      "\n",
      "[2 3 4 5]\n"
     ]
    }
   ],
   "source": [
    "arr = np.array([1, 2, 3, 4, 5, 6, 7])\n",
    "\n",
    "print(arr, '\\n')\n",
    "print(arr[1:5]) # Slice elements from index 1 to index 5 from the following array"
   ]
  },
  {
   "cell_type": "code",
   "execution_count": 24,
   "id": "9680f0a2",
   "metadata": {},
   "outputs": [
    {
     "name": "stdout",
     "output_type": "stream",
     "text": [
      "[1 2 3 4 5 6 7] \n",
      "\n",
      "[5 6 7]\n"
     ]
    }
   ],
   "source": [
    "arr = np.array([1, 2, 3, 4, 5, 6, 7])\n",
    "\n",
    "print(arr, '\\n')\n",
    "print(arr[4:]) # Slice elements from index 4 to the end of the array"
   ]
  },
  {
   "cell_type": "code",
   "execution_count": 25,
   "id": "1b5bd160",
   "metadata": {},
   "outputs": [
    {
     "name": "stdout",
     "output_type": "stream",
     "text": [
      "[1 2 3 4 5 6 7] \n",
      "\n",
      "[1 2 3 4]\n"
     ]
    }
   ],
   "source": [
    "arr = np.array([1, 2, 3, 4, 5, 6, 7])\n",
    "\n",
    "print(arr, '\\n')\n",
    "print(arr[:4]) # Slice elements from the beginning to index 4 (not included)"
   ]
  },
  {
   "cell_type": "markdown",
   "id": "acee0d47",
   "metadata": {},
   "source": [
    "## Negative Slicing\n",
    "Use the minus operator to refer to an index from the end:"
   ]
  },
  {
   "cell_type": "code",
   "execution_count": 26,
   "id": "bedb32c6",
   "metadata": {},
   "outputs": [
    {
     "name": "stdout",
     "output_type": "stream",
     "text": [
      "[1 2 3 4 5 6 7] \n",
      "\n",
      "[5 6]\n"
     ]
    }
   ],
   "source": [
    "arr = np.array([1, 2, 3, 4, 5, 6, 7])\n",
    "\n",
    "print(arr, '\\n')\n",
    "print(arr[-3:-1]) # Slice from the index 3 from the end to index 1 from the end"
   ]
  },
  {
   "cell_type": "markdown",
   "id": "45025080",
   "metadata": {},
   "source": [
    "## STEP\n",
    "Use the `step` value to determine the step of the slicing:"
   ]
  },
  {
   "cell_type": "code",
   "execution_count": 27,
   "id": "50ecedb1",
   "metadata": {},
   "outputs": [
    {
     "name": "stdout",
     "output_type": "stream",
     "text": [
      "[1 2 3 4 5 6 7] \n",
      "\n",
      "[2 4]\n"
     ]
    }
   ],
   "source": [
    "arr = np.array([1, 2, 3, 4, 5, 6, 7])\n",
    "\n",
    "print(arr, '\\n')\n",
    "print(arr[1:5:2]) # Return every other element from index 1 to index 5"
   ]
  },
  {
   "cell_type": "code",
   "execution_count": 28,
   "id": "d847c56d",
   "metadata": {},
   "outputs": [
    {
     "name": "stdout",
     "output_type": "stream",
     "text": [
      "[1 2 3 4 5 6 7] \n",
      "\n",
      "[1 3 5 7]\n"
     ]
    }
   ],
   "source": [
    "arr = np.array([1, 2, 3, 4, 5, 6, 7])\n",
    "\n",
    "print(arr, '\\n')\n",
    "print(arr[::2]) # Return every other element from the entire array"
   ]
  },
  {
   "cell_type": "markdown",
   "id": "a88874a3",
   "metadata": {},
   "source": [
    "## Slicing 2-D Arrays"
   ]
  },
  {
   "cell_type": "code",
   "execution_count": 29,
   "id": "f581e190",
   "metadata": {},
   "outputs": [
    {
     "name": "stdout",
     "output_type": "stream",
     "text": [
      "[[ 1  2  3  4  5]\n",
      " [ 6  7  8  9 10]] \n",
      "\n",
      "[7 8 9]\n"
     ]
    }
   ],
   "source": [
    "arr = np.array([[1, 2, 3, 4, 5], [6, 7, 8, 9, 10]])\n",
    "\n",
    "print(arr, '\\n')\n",
    "print(arr[1, 1:4]) # From the second element, slice elements from index 1 to index 4 (not included)"
   ]
  },
  {
   "cell_type": "markdown",
   "id": "81133360",
   "metadata": {},
   "source": [
    "**Note: Remember that second element has index 1.**"
   ]
  },
  {
   "cell_type": "code",
   "execution_count": 30,
   "id": "aa36079c",
   "metadata": {},
   "outputs": [
    {
     "name": "stdout",
     "output_type": "stream",
     "text": [
      "[[ 1  2  3  4  5]\n",
      " [ 6  7  8  9 10]] \n",
      "\n",
      "[3 8]\n"
     ]
    }
   ],
   "source": [
    "arr = np.array([[1, 2, 3, 4, 5], [6, 7, 8, 9, 10]])\n",
    "\n",
    "print(arr, '\\n')\n",
    "print(arr[0:2, 2]) # From both elements, return index 2"
   ]
  },
  {
   "cell_type": "code",
   "execution_count": 31,
   "id": "d6c03cb8",
   "metadata": {},
   "outputs": [
    {
     "name": "stdout",
     "output_type": "stream",
     "text": [
      "[[ 1  2  3  4  5]\n",
      " [ 6  7  8  9 10]] \n",
      "\n",
      "[[2 3 4]\n",
      " [7 8 9]]\n"
     ]
    }
   ],
   "source": [
    "arr = np.array([[1, 2, 3, 4, 5], [6, 7, 8, 9, 10]])\n",
    "\n",
    "print(arr, '\\n')\n",
    "print(arr[0:2, 1:4]) # From both elements, slice index 1 to index 4 (not included), this will return a 2-D array"
   ]
  },
  {
   "cell_type": "markdown",
   "id": "0959886b",
   "metadata": {},
   "source": [
    "# NumPy Data Types\n",
    "## Data Types in Python\n",
    "By default Python have these data types:\n",
    "\n",
    "<ul>\n",
    "    <li><code>strings</code> - used to represent text data, the text is given under quote marks. e.g. \"ABCD\"</li>\n",
    "    <li><code>integer</code> - used to represent integer numbers. e.g. -1, -2, -3</li>\n",
    "    <li><code>float</code> - used to represent real numbers. e.g. 1.2, 42.42</li>\n",
    "    <li><code>boolean</code> - used to represent True or False.</li>\n",
    "    <li><code>complex</code> - used to represent complex numbers. e.g. 1.0 + 2.0j, 1.5 + 2.5j</li>\n",
    "</ul>\n"
   ]
  },
  {
   "cell_type": "markdown",
   "id": "a7f6b9cd",
   "metadata": {},
   "source": [
    "## Data Types in NumPy\n",
    "NumPy has some extra data types, and refer to data types with one character, like `i` for integers, `u` for unsigned integers etc.\n",
    "\n",
    "Below is a list of all data types in NumPy and the characters used to represent them.\n",
    "\n",
    "<ul>\n",
    "    <li><code>i</code> - integer</li>\n",
    "    <li><code>b</code> - boolean</li>\n",
    "    <li><code>u</code> - unsigned integer</li>\n",
    "    <li><code>f</code> - float</li>\n",
    "    <li><code>c</code> - complex float</li>\n",
    "    <li><code>m</code> - timedelta</li>\n",
    "    <li><code>M</code> - datetime</li>\n",
    "    <li><code>O</code> - object</li>\n",
    "    <li><code>S</code> - string</li>\n",
    "    <li><code>U</code> - unicode string</li>\n",
    "    <li><code>V</code> - fixed chunk of memory for other type ( void )</li>\n",
    "</ul>"
   ]
  },
  {
   "cell_type": "markdown",
   "id": "cb3e71a7",
   "metadata": {},
   "source": [
    "## Checking the Data Type of an Array\n",
    "The NumPy array object has a property called dtype that returns the data type of the array:"
   ]
  },
  {
   "cell_type": "code",
   "execution_count": 32,
   "id": "448a0faa",
   "metadata": {},
   "outputs": [
    {
     "name": "stdout",
     "output_type": "stream",
     "text": [
      "[1 2 3 4] \n",
      "\n",
      "int32\n"
     ]
    }
   ],
   "source": [
    "arr = np.array([1, 2, 3, 4])\n",
    "\n",
    "print(arr, '\\n')\n",
    "print(arr.dtype) # Get the data type of an array object"
   ]
  },
  {
   "cell_type": "code",
   "execution_count": 33,
   "id": "8e8fb1cb",
   "metadata": {},
   "outputs": [
    {
     "name": "stdout",
     "output_type": "stream",
     "text": [
      "['apple' 'banana' 'cherry'] \n",
      "\n",
      "<U6\n"
     ]
    }
   ],
   "source": [
    "arr = np.array(['apple', 'banana', 'cherry'])\n",
    "\n",
    "print(arr, '\\n')\n",
    "print(arr.dtype) # Get the data type of an array containing strings"
   ]
  },
  {
   "cell_type": "markdown",
   "id": "1cad9df4",
   "metadata": {},
   "source": [
    "## Creating Arrays With a Defined Data Type\n",
    "We use the `array()` function to create arrays, this function can take an optional argument: `dtype` that allows us to define the expected data type of the array elements:"
   ]
  },
  {
   "cell_type": "code",
   "execution_count": 35,
   "id": "c1349f4c",
   "metadata": {},
   "outputs": [
    {
     "name": "stdout",
     "output_type": "stream",
     "text": [
      "[b'1' b'2' b'3' b'4'] \n",
      "\n",
      "|S1\n"
     ]
    }
   ],
   "source": [
    "arr = np.array([1, 2, 3, 4], dtype='S')\n",
    "\n",
    "print(arr, '\\n')\n",
    "print(arr.dtype) # Create an array with data type string:"
   ]
  },
  {
   "cell_type": "markdown",
   "id": "aec135f4",
   "metadata": {},
   "source": [
    "For `i`, `u`, `f`, `S` and `U` we can define size as well."
   ]
  },
  {
   "cell_type": "code",
   "execution_count": 36,
   "id": "dcea3126",
   "metadata": {},
   "outputs": [
    {
     "name": "stdout",
     "output_type": "stream",
     "text": [
      "[1 2 3 4] \n",
      "\n",
      "int32\n"
     ]
    }
   ],
   "source": [
    "arr = np.array([1, 2, 3, 4], dtype='i4')\n",
    "\n",
    "print(arr, '\\n')\n",
    "print(arr.dtype) # Create an array with data type 4 bytes integer"
   ]
  },
  {
   "cell_type": "markdown",
   "id": "284655ef",
   "metadata": {},
   "source": [
    "## What if a Value Can Not Be Converted?\n",
    "If a type is given in which elements can't be casted then NumPy will raise a ValueError.\n",
    "\n",
    "**ValueError:** In Python ValueError is raised when the type of passed argument to a function is unexpected/incorrect."
   ]
  },
  {
   "cell_type": "code",
   "execution_count": 37,
   "id": "cf5240ca",
   "metadata": {},
   "outputs": [
    {
     "ename": "ValueError",
     "evalue": "invalid literal for int() with base 10: 'a'",
     "output_type": "error",
     "traceback": [
      "\u001b[1;31m---------------------------------------------------------------------------\u001b[0m",
      "\u001b[1;31mValueError\u001b[0m                                Traceback (most recent call last)",
      "Input \u001b[1;32mIn [37]\u001b[0m, in \u001b[0;36m<cell line: 1>\u001b[1;34m()\u001b[0m\n\u001b[1;32m----> 1\u001b[0m arr \u001b[38;5;241m=\u001b[39m \u001b[43mnp\u001b[49m\u001b[38;5;241;43m.\u001b[39;49m\u001b[43marray\u001b[49m\u001b[43m(\u001b[49m\u001b[43m[\u001b[49m\u001b[38;5;124;43m'\u001b[39;49m\u001b[38;5;124;43ma\u001b[39;49m\u001b[38;5;124;43m'\u001b[39;49m\u001b[43m,\u001b[49m\u001b[43m \u001b[49m\u001b[38;5;124;43m'\u001b[39;49m\u001b[38;5;124;43m2\u001b[39;49m\u001b[38;5;124;43m'\u001b[39;49m\u001b[43m,\u001b[49m\u001b[43m \u001b[49m\u001b[38;5;124;43m'\u001b[39;49m\u001b[38;5;124;43m3\u001b[39;49m\u001b[38;5;124;43m'\u001b[39;49m\u001b[43m]\u001b[49m\u001b[43m,\u001b[49m\u001b[43m \u001b[49m\u001b[43mdtype\u001b[49m\u001b[38;5;241;43m=\u001b[39;49m\u001b[38;5;124;43m'\u001b[39;49m\u001b[38;5;124;43mi\u001b[39;49m\u001b[38;5;124;43m'\u001b[39;49m\u001b[43m)\u001b[49m\n",
      "\u001b[1;31mValueError\u001b[0m: invalid literal for int() with base 10: 'a'"
     ]
    }
   ],
   "source": [
    "arr = np.array(['a', '2', '3'], dtype='i') # A non integer string like 'a' can not be converted to integer (will raise an error)"
   ]
  },
  {
   "cell_type": "code",
   "execution_count": null,
   "id": "ec166825",
   "metadata": {},
   "outputs": [],
   "source": []
  },
  {
   "cell_type": "code",
   "execution_count": null,
   "id": "abef3c64",
   "metadata": {},
   "outputs": [],
   "source": []
  },
  {
   "cell_type": "code",
   "execution_count": null,
   "id": "3768ad36",
   "metadata": {},
   "outputs": [],
   "source": []
  },
  {
   "cell_type": "code",
   "execution_count": null,
   "id": "5b640f3a",
   "metadata": {},
   "outputs": [],
   "source": []
  },
  {
   "cell_type": "code",
   "execution_count": null,
   "id": "28cf6100",
   "metadata": {
    "lang": "en"
   },
   "outputs": [],
   "source": [
    "a = [1, 2, 3]\n",
    "b = [4, 5, 6]\n",
    "c = a * b"
   ]
  },
  {
   "cell_type": "markdown",
   "id": "d4ed3a9d",
   "metadata": {},
   "source": [
    "for example see try code:\n",
    "\n",
    "```python\n",
    "a = [1, 2, 3]\n",
    "b = [4, 5, 6]\n",
    "c = a * b\n",
    "```"
   ]
  },
  {
   "cell_type": "markdown",
   "id": "37d205a7",
   "metadata": {},
   "source": [
    "# References\n",
    "1. https://numpy.org/\n",
    "2. https://www.w3schools.com/python/numpy/"
   ]
  },
  {
   "cell_type": "markdown",
   "id": "dfca4726",
   "metadata": {},
   "source": [
    "# Other Links\n",
    "1. https://www.youtube.com/watch?v=gFEE3w7F0ww"
   ]
  },
  {
   "cell_type": "code",
   "execution_count": null,
   "id": "58f1c5b6",
   "metadata": {},
   "outputs": [],
   "source": []
  }
 ],
 "metadata": {
  "kernelspec": {
   "display_name": ".venv",
   "language": "python",
   "name": ".venv"
  },
  "language_info": {
   "codemirror_mode": {
    "name": "ipython",
    "version": 3
   },
   "file_extension": ".py",
   "mimetype": "text/x-python",
   "name": "python",
   "nbconvert_exporter": "python",
   "pygments_lexer": "ipython3",
   "version": "3.10.8"
  },
  "nbTranslate": {
   "displayLangs": [
    "*"
   ],
   "hotkey": "alt-t",
   "langInMainMenu": true,
   "sourceLang": "en",
   "targetLang": "fr",
   "useGoogleTranslate": true
  },
  "toc": {
   "base_numbering": 1,
   "nav_menu": {},
   "number_sections": true,
   "sideBar": true,
   "skip_h1_title": false,
   "title_cell": "Table of Contents",
   "title_sidebar": "Contents",
   "toc_cell": true,
   "toc_position": {
    "height": "calc(100% - 180px)",
    "left": "10px",
    "top": "150px",
    "width": "307.825px"
   },
   "toc_section_display": true,
   "toc_window_display": false
  }
 },
 "nbformat": 4,
 "nbformat_minor": 5
}
