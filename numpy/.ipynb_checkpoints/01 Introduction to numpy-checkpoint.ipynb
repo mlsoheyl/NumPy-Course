{
 "cells": [
  {
   "cell_type": "markdown",
   "id": "e3a33510",
   "metadata": {
    "toc": true
   },
   "source": [
    "<h1>Table of Contents<span class=\"tocSkip\"></span></h1>\n",
    "<div class=\"toc\"><ul class=\"toc-item\"><li><span><a href=\"#Introduction-to-Numpy\" data-toc-modified-id=\"Introduction-to-Numpy-1\"><span class=\"toc-item-num\">1&nbsp;&nbsp;</span>Introduction to Numpy</a></span><ul class=\"toc-item\"><li><span><a href=\"#What-is-Numpy?\" data-toc-modified-id=\"What-is-Numpy?-1.1\"><span class=\"toc-item-num\">1.1&nbsp;&nbsp;</span>What is Numpy?</a></span></li><li><span><a href=\"#Why-Use-NumPy?\" data-toc-modified-id=\"Why-Use-NumPy?-1.2\"><span class=\"toc-item-num\">1.2&nbsp;&nbsp;</span>Why Use NumPy?</a></span></li><li><span><a href=\"#Why-is-NumPy-Faster-Than-Lists?\" data-toc-modified-id=\"Why-is-NumPy-Faster-Than-Lists?-1.3\"><span class=\"toc-item-num\">1.3&nbsp;&nbsp;</span>Why is NumPy Faster Than Lists?</a></span></li><li><span><a href=\"#Which-Language-is-NumPy-written-in?\" data-toc-modified-id=\"Which-Language-is-NumPy-written-in?-1.4\"><span class=\"toc-item-num\">1.4&nbsp;&nbsp;</span>Which Language is NumPy written in?</a></span></li><li><span><a href=\"#Where-is-the-NumPy-Codebase?\" data-toc-modified-id=\"Where-is-the-NumPy-Codebase?-1.5\"><span class=\"toc-item-num\">1.5&nbsp;&nbsp;</span>Where is the NumPy Codebase?</a></span></li></ul></li><li><span><a href=\"#Installing-NumPy\" data-toc-modified-id=\"Installing-NumPy-2\"><span class=\"toc-item-num\">2&nbsp;&nbsp;</span>Installing NumPy</a></span></li><li><span><a href=\"#Getting-Started\" data-toc-modified-id=\"Getting-Started-3\"><span class=\"toc-item-num\">3&nbsp;&nbsp;</span>Getting Started</a></span><ul class=\"toc-item\"><li><span><a href=\"#Import-NumPy\" data-toc-modified-id=\"Import-NumPy-3.1\"><span class=\"toc-item-num\">3.1&nbsp;&nbsp;</span>Import NumPy</a></span></li><li><span><a href=\"#NumPy-as-np\" data-toc-modified-id=\"NumPy-as-np-3.2\"><span class=\"toc-item-num\">3.2&nbsp;&nbsp;</span>NumPy as np</a></span></li><li><span><a href=\"#Checking-NumPy-Version\" data-toc-modified-id=\"Checking-NumPy-Version-3.3\"><span class=\"toc-item-num\">3.3&nbsp;&nbsp;</span>Checking NumPy Version</a></span></li></ul></li><li><span><a href=\"#NumPy-Creating-Arrays\" data-toc-modified-id=\"NumPy-Creating-Arrays-4\"><span class=\"toc-item-num\">4&nbsp;&nbsp;</span>NumPy Creating Arrays</a></span><ul class=\"toc-item\"><li><span><a href=\"#Create-a-NumPy-ndarray-Object\" data-toc-modified-id=\"Create-a-NumPy-ndarray-Object-4.1\"><span class=\"toc-item-num\">4.1&nbsp;&nbsp;</span>Create a NumPy ndarray Object</a></span></li><li><span><a href=\"#Dimensions-in-Arrays\" data-toc-modified-id=\"Dimensions-in-Arrays-4.2\"><span class=\"toc-item-num\">4.2&nbsp;&nbsp;</span>Dimensions in Arrays</a></span><ul class=\"toc-item\"><li><span><a href=\"#0-D-Arrays\" data-toc-modified-id=\"0-D-Arrays-4.2.1\"><span class=\"toc-item-num\">4.2.1&nbsp;&nbsp;</span>0-D Arrays</a></span></li><li><span><a href=\"#1-D-Arrays\" data-toc-modified-id=\"1-D-Arrays-4.2.2\"><span class=\"toc-item-num\">4.2.2&nbsp;&nbsp;</span>1-D Arrays</a></span></li><li><span><a href=\"#2-D-Arrays\" data-toc-modified-id=\"2-D-Arrays-4.2.3\"><span class=\"toc-item-num\">4.2.3&nbsp;&nbsp;</span>2-D Arrays</a></span></li><li><span><a href=\"#3-D-arrays\" data-toc-modified-id=\"3-D-arrays-4.2.4\"><span class=\"toc-item-num\">4.2.4&nbsp;&nbsp;</span>3-D arrays</a></span></li></ul></li><li><span><a href=\"#Check-Number-of-Dimensions?\" data-toc-modified-id=\"Check-Number-of-Dimensions?-4.3\"><span class=\"toc-item-num\">4.3&nbsp;&nbsp;</span>Check Number of Dimensions?</a></span></li><li><span><a href=\"#Higher-Dimensional-Arrays\" data-toc-modified-id=\"Higher-Dimensional-Arrays-4.4\"><span class=\"toc-item-num\">4.4&nbsp;&nbsp;</span>Higher Dimensional Arrays</a></span></li></ul></li><li><span><a href=\"#References\" data-toc-modified-id=\"References-5\"><span class=\"toc-item-num\">5&nbsp;&nbsp;</span>References</a></span></li><li><span><a href=\"#Other-Links\" data-toc-modified-id=\"Other-Links-6\"><span class=\"toc-item-num\">6&nbsp;&nbsp;</span>Other Links</a></span></li></ul></div>"
   ]
  },
  {
   "cell_type": "markdown",
   "id": "f1263960",
   "metadata": {},
   "source": [
    "# Introduction to Numpy\n",
    "<img src=\"./numpylogo.svg\" width=\"500\" height=\"500\">\n",
    "\n",
    "## What is Numpy?\n",
    "NumPy was created in 2005 by **Travis Oliphant**. It is an **open source** project and you can use it freely. It is the fundamental package for **scientific computing** in Python. It is a Python **library** that provides a **multidimensional array object**, various derived objects (such as masked arrays and matrices), and an assortment of routines for **fast operations on arrays**, including mathematical, logical, shape manipulation, sorting, selecting, I/O, discrete Fourier transforms, basic linear algebra, basic statistical operations, random simulation and much more.\n",
    "\n",
    "At the core of the NumPy package, is the **ndarray object**. This encapsulates n-dimensional arrays of homogeneous data types, with many operations being performed in compiled code for performance. There are several important **differences between NumPy arrays and the standard Python sequences**:\n",
    "\n",
    "<ul>\n",
    "    <li>NumPy arrays have a fixed size at creation, unlike Python lists (which can grow dynamically). Changing the size of an ndarray will create a new array and delete the original.</li>\n",
    "    <li>The elements in a NumPy array are all required to be of the same data type, and thus will be the same size in memory. The exception: one can have arrays of (Python, including NumPy) objects, thereby allowing for arrays of different sized elements.</li>\n",
    "    <li>NumPy arrays facilitate advanced mathematical and other types of operations on large numbers of data. Typically, such operations are executed more efficiently and with less code than is possible using Python’s built-in sequences.</li>\n",
    "    <li>A growing plethora of scientific and mathematical Python-based packages are using NumPy arrays; though these typically support Python-sequence input, they convert such input to NumPy arrays prior to processing, and they often output NumPy arrays. In other words, in order to efficiently use much (perhaps even most) of today’s scientific/mathematical Python-based software, just knowing how to use Python’s built-in sequence types is insufficient - one also needs to know how to use NumPy arrays.</li>\n",
    "</ul>\n",
    "\n",
    "\n",
    "## Why Use NumPy?\n",
    "In Python we have **lists** that serve the purpose of arrays, but they are **slow to process**.\n",
    "NumPy aims to provide an array object that is up to **50x faster** than traditional Python lists.\n",
    "The array object in NumPy is called **`ndarray`**, it provides a lot of supporting functions that make working with `ndarray` very easy.\n",
    "Arrays are very frequently used in data science, where speed and resources are very important.\n",
    "\n",
    "## Why is NumPy Faster Than Lists?\n",
    "NumPy arrays are stored at **one continuous place in memory** unlike lists, so processes can access and manipulate them very efficiently.\n",
    "This behavior is called **locality of reference** in computer science.\n",
    "This is the main reason why NumPy is faster than lists. Also it is optimized to work with latest CPU architectures.\n",
    "\n",
    "## Which Language is NumPy written in?\n",
    "NumPy is a Python library and is written partially in **Python**, but most of the parts that require fast computation are written in **C** or **C++**.\n",
    "\n",
    "## Where is the NumPy Codebase?\n",
    "The source code for NumPy is located at this github repository https://github.com/numpy/numpy"
   ]
  },
  {
   "cell_type": "markdown",
   "id": "c33cf2f1",
   "metadata": {},
   "source": [
    "# Installing NumPy\n",
    "The only prerequisite for installing NumPy is Python itself. If you don’t have Python yet and want the simplest way to get started, we recommend you use the `Anaconda Distribution` - it includes Python, NumPy, and many other commonly used packages for scientific computing and data science.\n",
    "\n",
    "NumPy can be installed with `conda`, `pip` with a package manager on macOS and Linux, or [from source](https://numpy.org/devdocs/user/building.html).\n",
    "\n",
    "```python\n",
    "> pip install numpy\n",
    "```"
   ]
  },
  {
   "cell_type": "markdown",
   "id": "3fd0a479",
   "metadata": {},
   "source": [
    "# Getting Started\n",
    "## Import NumPy\n",
    "Once NumPy is installed, import it in your applications by adding the `import` keyword:\n",
    "\n",
    "\n",
    "```python\n",
    "import numpy\n",
    "```"
   ]
  },
  {
   "cell_type": "code",
   "execution_count": null,
   "id": "04c32e32",
   "metadata": {},
   "outputs": [],
   "source": [
    "import numpy"
   ]
  },
  {
   "cell_type": "code",
   "execution_count": null,
   "id": "b930f2d3",
   "metadata": {},
   "outputs": [],
   "source": [
    "arr = numpy.array([1, 2, 3, 4, 5])\n",
    "\n",
    "print(arr)"
   ]
  },
  {
   "cell_type": "markdown",
   "id": "21b1cc68",
   "metadata": {},
   "source": [
    "## NumPy as np\n",
    "NumPy is usually imported under the `np` alias.\n",
    "\n",
    "Create an alias with the `as` keyword while importing:\n",
    "```python\n",
    "import numpy as np\n",
    "```"
   ]
  },
  {
   "cell_type": "code",
   "execution_count": null,
   "id": "98192160",
   "metadata": {},
   "outputs": [],
   "source": [
    "import numpy as np"
   ]
  },
  {
   "cell_type": "code",
   "execution_count": null,
   "id": "2d486475",
   "metadata": {},
   "outputs": [],
   "source": [
    "arr = np.array([1, 2, 3, 4, 5])\n",
    "\n",
    "print(arr)"
   ]
  },
  {
   "cell_type": "markdown",
   "id": "a601660c",
   "metadata": {},
   "source": [
    "## Checking NumPy Version\n",
    "The version string is stored under `__version__` attribute.\n",
    "\n",
    "```python\n",
    "np.__version__\n",
    "```"
   ]
  },
  {
   "cell_type": "code",
   "execution_count": null,
   "id": "426351e1",
   "metadata": {},
   "outputs": [],
   "source": [
    "print(np.__version__)"
   ]
  },
  {
   "cell_type": "markdown",
   "id": "baacf26d",
   "metadata": {},
   "source": [
    "# NumPy Creating Arrays\n",
    "## Create a NumPy ndarray Object\n",
    "NumPy is used to work with arrays. The array object in NumPy is called `ndarray`.\n",
    "\n",
    "We can create a NumPy `ndarray` object by using the `array()` function.\n",
    "\n",
    "```python\n",
    "np.array()\n",
    "```"
   ]
  },
  {
   "cell_type": "code",
   "execution_count": null,
   "id": "2acc8853",
   "metadata": {},
   "outputs": [],
   "source": [
    "arr = np.array([1, 2, 3, 4, 5])\n",
    "\n",
    "print(arr)\n",
    "print(type(arr))"
   ]
  },
  {
   "cell_type": "markdown",
   "id": "3f562023",
   "metadata": {},
   "source": [
    "To create an `ndarray`, we can pass a list, tuple or any array-like object into the `array()` method, and it will be converted into an ndarray:"
   ]
  },
  {
   "cell_type": "code",
   "execution_count": null,
   "id": "a7b737ee",
   "metadata": {},
   "outputs": [],
   "source": [
    "lst = [1, 2, 3, 4]\n",
    "arr = np.array(lst)\n",
    "\n",
    "print(arr)\n",
    "print(type(arr))\n",
    "print(type(lst))"
   ]
  },
  {
   "cell_type": "markdown",
   "id": "dcb38a38",
   "metadata": {},
   "source": [
    "## Dimensions in Arrays\n",
    "A dimension in arrays is one level of array depth (nested arrays).\n",
    "\n",
    "Nested array: are arrays that have arrays as their elements.\n",
    "\n",
    "### 0-D Arrays\n",
    "0-D arrays, or Scalars, are the elements in an array. Each value in an array is a 0-D array."
   ]
  },
  {
   "cell_type": "code",
   "execution_count": null,
   "id": "04fd6750",
   "metadata": {},
   "outputs": [],
   "source": [
    "arr = np.array(42)\n",
    "\n",
    "print(arr)\n",
    "print(type(arr))"
   ]
  },
  {
   "cell_type": "markdown",
   "id": "8006adc2",
   "metadata": {},
   "source": [
    "### 1-D Arrays\n",
    "An array that has 0-D arrays as its elements is called uni-dimensional or 1-D array.\n",
    "\n",
    "These are the most common and basic arrays."
   ]
  },
  {
   "cell_type": "code",
   "execution_count": null,
   "id": "26800ff7",
   "metadata": {},
   "outputs": [],
   "source": [
    "arr = np.array([1, 2, 3, 4, 5])\n",
    "\n",
    "print(arr)"
   ]
  },
  {
   "cell_type": "markdown",
   "id": "f1441d5b",
   "metadata": {},
   "source": [
    "### 2-D Arrays\n",
    "An array that has 1-D arrays as its elements is called a 2-D array.\n",
    "\n",
    "These are often used to represent matrix or 2nd order tensors.\n",
    "\n",
    "`NumPy has a whole sub module dedicated towards matrix operations called numpy.mat`"
   ]
  },
  {
   "cell_type": "code",
   "execution_count": null,
   "id": "a9eadc5f",
   "metadata": {},
   "outputs": [],
   "source": [
    "arr = np.array([[1, 2, 3], [4, 5, 6]])\n",
    "\n",
    "print(arr)\n",
    "print(type(arr))"
   ]
  },
  {
   "cell_type": "code",
   "execution_count": null,
   "id": "0067578d",
   "metadata": {},
   "outputs": [],
   "source": [
    "matrix = np.mat([[1, 2, 3], [4, 5, 6]])\n",
    "\n",
    "print(matrix)\n",
    "print(type(matrix))"
   ]
  },
  {
   "cell_type": "markdown",
   "id": "25b8cc89",
   "metadata": {},
   "source": [
    "### 3-D arrays\n",
    "An array that has 2-D arrays (matrices) as its elements is called 3-D array.\n",
    "\n",
    "These are often used to represent a 3rd order tensor."
   ]
  },
  {
   "cell_type": "code",
   "execution_count": null,
   "id": "6e9973eb",
   "metadata": {},
   "outputs": [],
   "source": [
    "arr = np.array([[[1, 2, 3], [4, 5, 6]], [[1, 2, 3], [4, 5, 6]]])\n",
    "\n",
    "print(arr)\n",
    "print(type(arr))"
   ]
  },
  {
   "cell_type": "markdown",
   "id": "a6094ede",
   "metadata": {},
   "source": [
    "## Check Number of Dimensions?\n",
    "NumPy Arrays provides the ndim attribute that returns an integer that tells us how many dimensions the array have."
   ]
  },
  {
   "cell_type": "code",
   "execution_count": null,
   "id": "786af57b",
   "metadata": {},
   "outputs": [],
   "source": [
    "a = np.array(42)\n",
    "b = np.array([1, 2, 3, 4, 5])\n",
    "c = np.array([[1, 2, 3], [4, 5, 6]])\n",
    "d = np.array([[[1, 2, 3], [4, 5, 6]], [[1, 2, 3], [4, 5, 6]]])\n",
    "\n",
    "print(a.ndim)\n",
    "print(b.ndim)\n",
    "print(c.ndim)\n",
    "print(d.ndim)"
   ]
  },
  {
   "cell_type": "markdown",
   "id": "c57b3b06",
   "metadata": {},
   "source": [
    "## Higher Dimensional Arrays\n",
    "An array can have any number of dimensions.\n",
    "\n",
    "When the array is created, you can define the number of dimensions by using the `ndmin` argument."
   ]
  },
  {
   "cell_type": "code",
   "execution_count": null,
   "id": "5d51b9dc",
   "metadata": {},
   "outputs": [],
   "source": [
    "arr = np.array([1, 2, 3, 4], ndmin=5)\n",
    "\n",
    "print(arr)\n",
    "print('number of dimensions :', arr.ndim)"
   ]
  },
  {
   "cell_type": "markdown",
   "id": "9284f159",
   "metadata": {},
   "source": [
    "In this array the innermost dimension (5th dim) has 4 elements, the 4th dim has 1 element that is the vector, the 3rd dim has 1 element that is the matrix with the vector, the 2nd dim has 1 element that is 3D array and 1st dim has 1 element that is a 4D array."
   ]
  },
  {
   "cell_type": "code",
   "execution_count": null,
   "id": "4dbbc0a3",
   "metadata": {},
   "outputs": [],
   "source": []
  },
  {
   "cell_type": "code",
   "execution_count": null,
   "id": "3ac5de6a",
   "metadata": {},
   "outputs": [],
   "source": []
  },
  {
   "cell_type": "code",
   "execution_count": null,
   "id": "4ccf1c31",
   "metadata": {},
   "outputs": [],
   "source": []
  },
  {
   "cell_type": "code",
   "execution_count": null,
   "id": "ff8302d3",
   "metadata": {},
   "outputs": [],
   "source": []
  },
  {
   "cell_type": "code",
   "execution_count": null,
   "id": "c496c286",
   "metadata": {},
   "outputs": [],
   "source": []
  },
  {
   "cell_type": "code",
   "execution_count": null,
   "id": "28cf6100",
   "metadata": {
    "lang": "en"
   },
   "outputs": [],
   "source": [
    "a = [1, 2, 3]\n",
    "b = [4, 5, 6]\n",
    "c = a * b"
   ]
  },
  {
   "cell_type": "markdown",
   "id": "d4ed3a9d",
   "metadata": {},
   "source": [
    "for example see try code:\n",
    "\n",
    "```python\n",
    "a = [1, 2, 3]\n",
    "b = [4, 5, 6]\n",
    "c = a * b\n",
    "```"
   ]
  },
  {
   "cell_type": "markdown",
   "id": "37d205a7",
   "metadata": {},
   "source": [
    "# References\n",
    "1. https://numpy.org/\n",
    "2. https://www.w3schools.com/python/numpy/"
   ]
  },
  {
   "cell_type": "markdown",
   "id": "dfca4726",
   "metadata": {},
   "source": [
    "# Other Links\n",
    "1. https://www.youtube.com/watch?v=gFEE3w7F0ww"
   ]
  },
  {
   "cell_type": "code",
   "execution_count": null,
   "id": "58f1c5b6",
   "metadata": {},
   "outputs": [],
   "source": []
  }
 ],
 "metadata": {
  "kernelspec": {
   "display_name": ".venv",
   "language": "python",
   "name": ".venv"
  },
  "language_info": {
   "codemirror_mode": {
    "name": "ipython",
    "version": 3
   },
   "file_extension": ".py",
   "mimetype": "text/x-python",
   "name": "python",
   "nbconvert_exporter": "python",
   "pygments_lexer": "ipython3",
   "version": "3.10.8"
  },
  "nbTranslate": {
   "displayLangs": [
    "*"
   ],
   "hotkey": "alt-t",
   "langInMainMenu": true,
   "sourceLang": "en",
   "targetLang": "fr",
   "useGoogleTranslate": true
  },
  "toc": {
   "base_numbering": 1,
   "nav_menu": {},
   "number_sections": true,
   "sideBar": true,
   "skip_h1_title": false,
   "title_cell": "Table of Contents",
   "title_sidebar": "Contents",
   "toc_cell": true,
   "toc_position": {
    "height": "calc(100% - 180px)",
    "left": "10px",
    "top": "150px",
    "width": "307.825px"
   },
   "toc_section_display": true,
   "toc_window_display": false
  }
 },
 "nbformat": 4,
 "nbformat_minor": 5
}
